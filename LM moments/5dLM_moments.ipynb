{
 "cells": [
  {
   "cell_type": "code",
   "execution_count": 1,
   "id": "f322eb38",
   "metadata": {},
   "outputs": [],
   "source": [
    "import jax\n",
    "import jax.numpy as jnp\n",
    "import optax\n",
    "\n",
    "\n",
    "import matplotlib.pyplot as plt\n",
    "import numpy as np\n",
    "\n",
    "\n",
    "from tqdm import tqdm as tqdm\n",
    "import pandas as pd\n",
    "\n",
    "\n",
    "import time"
   ]
  },
  {
   "cell_type": "code",
   "execution_count": 2,
   "id": "292e781f",
   "metadata": {},
   "outputs": [],
   "source": [
    "def generate_gaussian_samples(mu, cov, n_samples, seed=0):\n",
    "\n",
    "\n",
    "    d = mu.shape[0]\n",
    "    key = jax.random.PRNGKey(seed)\n",
    "    z = jax.random.normal(key, shape=(n_samples, d))\n",
    "\n",
    "\n",
    "    L = jnp.linalg.cholesky(cov)\n",
    "    samples = mu + z @ L.T\n",
    "    \n",
    "    \n",
    "    return samples"
   ]
  },
  {
   "cell_type": "code",
   "execution_count": 3,
   "id": "cf9f57a7",
   "metadata": {},
   "outputs": [],
   "source": [
    "def potential_grad(sample, mu, cov):\n",
    "\n",
    "\n",
    "    precision = jnp.linalg.inv(cov)\n",
    "\n",
    "\n",
    "    return (sample - mu) @ precision"
   ]
  },
  {
   "cell_type": "code",
   "execution_count": 4,
   "id": "b8b40d51",
   "metadata": {},
   "outputs": [],
   "source": [
    "def evolve_langevin(samples, mu, cov, eps=1e-2, n_evolution=100, seed=0):\n",
    "\n",
    "    \n",
    "    key = jax.random.PRNGKey(seed)\n",
    "    evolved_samples = samples\n",
    "\n",
    "\n",
    "    for i in range(n_evolution):\n",
    "        key, subkey = jax.random.split(key)\n",
    "        grad = potential_grad(evolved_samples, mu, cov)\n",
    "        noise = jax.random.normal(subkey, shape=evolved_samples.shape)\n",
    "        evolved_samples = evolved_samples - eps * grad + jnp.sqrt(2 * eps) * noise\n",
    "        \n",
    "\n",
    "    return evolved_samples"
   ]
  },
  {
   "cell_type": "code",
   "execution_count": 5,
   "id": "7ced9c36",
   "metadata": {},
   "outputs": [],
   "source": [
    "def compute_moments_disc(samples, evolved_samples):\n",
    "\n",
    "\n",
    "    mu_1 = jnp.mean(samples, axis=0)\n",
    "    mu_2 = jnp.mean(evolved_samples, axis=0)\n",
    "\n",
    "\n",
    "    centered_1 = samples - mu_1\n",
    "    centered_2 = evolved_samples - mu_2\n",
    "\n",
    "\n",
    "    cov_1 = centered_1.T @ centered_1 / samples.shape[0]\n",
    "    cov_2 = centered_2.T @ centered_2 / evolved_samples.shape[0]\n",
    "\n",
    "\n",
    "    loss_mu = jnp.sum((mu_1 - mu_2) ** 2)\n",
    "    loss_cov = jnp.sum((cov_1 - cov_2) ** 2)\n",
    "\n",
    "\n",
    "    return loss_mu + loss_cov"
   ]
  },
  {
   "cell_type": "code",
   "execution_count": 6,
   "id": "4c4e156e",
   "metadata": {},
   "outputs": [],
   "source": [
    "def lm_loss(samples, mu, cov):\n",
    "\n",
    "\n",
    "    evolved_samples = evolve_langevin(samples, mu, cov)\n",
    "\n",
    "\n",
    "    return compute_moments_disc(samples, evolved_samples)"
   ]
  },
  {
   "cell_type": "code",
   "execution_count": 7,
   "id": "a79946ab",
   "metadata": {},
   "outputs": [],
   "source": [
    "def lm_optimize_with_tracking(\n",
    "    samples,\n",
    "    true_mu,\n",
    "    true_cov,\n",
    "    n_epochs=1000,\n",
    "    base_lr=1e-2,\n",
    "    seed=10,\n",
    "    eps=1e-2,\n",
    "    plot_every=200,\n",
    "    use_lr_schedule=True\n",
    "):\n",
    "    \n",
    "\n",
    "    n, d = samples.shape\n",
    "\n",
    "\n",
    "    key = jax.random.PRNGKey(seed)\n",
    "    key_mu, key_A = jax.random.split(key)\n",
    "\n",
    "\n",
    "    mu = jax.random.normal(key_mu, shape=(d,))\n",
    "    A = jax.random.normal(key_A, shape=(d, d))\n",
    "\n",
    "\n",
    "    params = {\n",
    "        \"mu\": mu,\n",
    "        \"A\": A\n",
    "    }\n",
    "\n",
    "\n",
    "    if use_lr_schedule:\n",
    "        lr_schedule = optax.linear_schedule(\n",
    "            init_value=1e-2,\n",
    "            end_value=base_lr,\n",
    "            transition_steps=500\n",
    "        )\n",
    "        optimizer = optax.adam(learning_rate=lr_schedule)\n",
    "    else:\n",
    "        optimizer = optax.adam(learning_rate=base_lr)\n",
    "\n",
    "\n",
    "    opt_state = optimizer.init(params)\n",
    "\n",
    "\n",
    "    def loss_fn(params, samples):\n",
    "        mu = params[\"mu\"]\n",
    "        A = params[\"A\"]\n",
    "        cov = A.T @ A\n",
    "        return lm_loss(samples, mu, cov)\n",
    "\n",
    "\n",
    "    history = {\n",
    "        \"loss\": [],\n",
    "        \"mu_l2\": [],\n",
    "        \"cov_fro\": [],\n",
    "    }\n",
    "\n",
    "\n",
    "    for epoch in range(n_epochs):\n",
    "        loss_val, grads = jax.value_and_grad(loss_fn)(params, samples)\n",
    "        updates, opt_state = optimizer.update(grads, opt_state, params)\n",
    "        params = optax.apply_updates(params, updates)\n",
    "\n",
    "\n",
    "        mu_val = params[\"mu\"]\n",
    "        A_val = params[\"A\"]\n",
    "        cov_val = A_val.T @ A_val\n",
    "\n",
    "\n",
    "        history[\"loss\"].append(loss_val)\n",
    "        history[\"mu_l2\"].append(jnp.linalg.norm(true_mu - mu_val))\n",
    "        history[\"cov_fro\"].append(jnp.linalg.norm(true_cov - cov_val, ord='fro'))\n",
    "\n",
    "\n",
    "        if epoch % plot_every == 0 or epoch == n_epochs - 1:\n",
    "            print(f\"epoch {epoch} | loss = {loss_val:.6f}\")\n",
    "\n",
    "\n",
    "    final_mu = params[\"mu\"]\n",
    "    final_cov = params[\"A\"].T @ params[\"A\"]\n",
    "\n",
    "\n",
    "    return final_mu, final_cov, history"
   ]
  },
  {
   "cell_type": "code",
   "execution_count": 8,
   "id": "0f275876",
   "metadata": {},
   "outputs": [],
   "source": [
    "mu = jnp.array([0.0, 1.0, -1.0, 0.5, -0.5])\n",
    "\n",
    "\n",
    "cov = jnp.array([\n",
    "    [1.0, 0.4, 0.3, 0.2, 0.1],\n",
    "    [0.4, 1.0, 0.5, 0.3, 0.2],\n",
    "    [0.3, 0.5, 1.0, 0.4, 0.3],\n",
    "    [0.2, 0.3, 0.4, 1.0, 0.5],\n",
    "    [0.1, 0.2, 0.3, 0.5, 1.0]\n",
    "])"
   ]
  },
  {
   "cell_type": "code",
   "execution_count": 9,
   "id": "a5c891cd",
   "metadata": {},
   "outputs": [
    {
     "name": "stdout",
     "output_type": "stream",
     "text": [
      "epoch 0 | loss = 9.141774\n",
      "epoch 200 | loss = 0.000001\n",
      "epoch 400 | loss = 0.000000\n",
      "epoch 600 | loss = 0.000000\n",
      "epoch 799 | loss = 0.000000\n",
      "0.1510181450843811\n"
     ]
    }
   ],
   "source": [
    "samples = generate_gaussian_samples(mu, cov, n_samples=2000, seed=0)\n",
    "\n",
    "\n",
    "start_time = time.time()\n",
    "\n",
    "\n",
    "final_mu, final_cov, history = lm_optimize_with_tracking(samples, mu, cov, n_epochs=800, base_lr=0.1, seed = 0)\n",
    "\n",
    "\n",
    "end_time = time.time()\n",
    "elapsed_time = end_time - start_time\n",
    "round_time = elapsed_time/800\n",
    "print(round_time)"
   ]
  },
  {
   "cell_type": "code",
   "execution_count": 10,
   "id": "f029633f",
   "metadata": {},
   "outputs": [
    {
     "name": "stdout",
     "output_type": "stream",
     "text": [
      "[ 0.   1.  -1.   0.5 -0.5] \n",
      "\n",
      " [ 0.0621  1.0398 -0.9068  0.4976 -0.4608] 0.079186365 \n",
      "\n",
      "\n",
      "\n",
      "[[1.  0.4 0.3 0.2 0.1]\n",
      " [0.4 1.  0.5 0.3 0.2]\n",
      " [0.3 0.5 1.  0.4 0.3]\n",
      " [0.2 0.3 0.4 1.  0.5]\n",
      " [0.1 0.2 0.3 0.5 1. ]] \n",
      "\n",
      " [[0.951  0.3629 0.2424 0.1247 0.061 ]\n",
      " [0.3629 0.9933 0.4673 0.2765 0.1877]\n",
      " [0.2424 0.4673 1.0287 0.4075 0.386 ]\n",
      " [0.1247 0.2765 0.4075 1.0309 0.4725]\n",
      " [0.061  0.1877 0.386  0.4725 1.0578]] 0.0834855 \n",
      "\n",
      "\n",
      "\n"
     ]
    }
   ],
   "source": [
    "jnp.set_printoptions(precision=4, suppress=True)\n",
    "\n",
    "\n",
    "print(jnp.round(mu, 4), \"\\n\\n\", jnp.round(final_mu, 4), jnp.linalg.norm(mu - final_mu)/jnp.linalg.norm(mu), \"\\n\\n\\n\")\n",
    "print(jnp.round(cov, 4), \"\\n\\n\", jnp.round(final_cov, 4), jnp.linalg.norm(cov - final_cov)/jnp.linalg.norm(cov), \"\\n\\n\\n\")"
   ]
  },
  {
   "cell_type": "code",
   "execution_count": 11,
   "id": "6f1af646",
   "metadata": {},
   "outputs": [],
   "source": [
    "history_np = {k: np.array(v) for k, v in history.items()}"
   ]
  },
  {
   "cell_type": "code",
   "execution_count": 12,
   "id": "34daabcc",
   "metadata": {},
   "outputs": [
    {
     "data": {
      "image/png": "[encoded data removed]",
      "text/plain": [
       "<Figure size 1200x600 with 2 Axes>"
      ]
     },
     "metadata": {},
     "output_type": "display_data"
    }
   ],
   "source": [
    "plt.figure(figsize=(12, 6))\n",
    "\n",
    "\n",
    "plt.subplot(1, 2, 1)\n",
    "plt.plot(history_np[\"loss\"], label=\"score matching loss\")\n",
    "plt.xlabel(\"step\", fontsize=14)\n",
    "plt.ylabel(\"loss\", fontsize=14)\n",
    "plt.title(\"loss evolution\", fontsize=16)\n",
    "plt.grid(True)\n",
    "plt.legend(fontsize=12)\n",
    "\n",
    "\n",
    "plt.subplot(1, 2, 2)\n",
    "plt.plot(history_np[\"mu_l2\"]/np.linalg.norm(mu), label=r\"$\\| \\mu - \\hat{\\mu} \\|_2/\\|\\mu\\|\\_2$\")\n",
    "plt.plot(history_np[\"cov_fro\"]/np.linalg.norm(cov), label=r\"$\\| \\Sigma - \\hat{\\Sigma} \\|_F/\\|\\Sigma\\|_F$\")\n",
    "plt.yscale(\"log\")\n",
    "plt.xlabel(\"step\", fontsize=14)\n",
    "plt.title(\"reconstruction error\", fontsize=16)\n",
    "plt.grid(True)\n",
    "plt.legend(fontsize=12)\n",
    "\n",
    "\n",
    "plt.tight_layout()\n",
    "plt.show()"
   ]
  },
  {
   "cell_type": "code",
   "execution_count": 13,
   "id": "4df86a6d",
   "metadata": {},
   "outputs": [
    {
     "name": "stderr",
     "output_type": "stream",
     "text": [
      "  0%|          | 0/40 [00:00<?, ?it/s]"
     ]
    },
    {
     "name": "stdout",
     "output_type": "stream",
     "text": [
      "epoch 0 | loss = 8.455070\n",
      "epoch 200 | loss = 0.023343\n"
     ]
    },
    {
     "name": "stderr",
     "output_type": "stream",
     "text": [
      "  0%|          | 0/40 [00:47<?, ?it/s]\n"
     ]
    },
    {
     "ename": "KeyboardInterrupt",
     "evalue": "",
     "output_type": "error",
     "traceback": [
      "\u001b[31m---------------------------------------------------------------------------\u001b[39m",
      "\u001b[31mKeyboardInterrupt\u001b[39m                         Traceback (most recent call last)",
      "\u001b[36mCell\u001b[39m\u001b[36m \u001b[39m\u001b[32mIn[13]\u001b[39m\u001b[32m, line 12\u001b[39m\n\u001b[32m     10\u001b[39m \u001b[38;5;28;01mfor\u001b[39;00m n \u001b[38;5;129;01min\u001b[39;00m tqdm(sample_sizes):\n\u001b[32m     11\u001b[39m     samples = generate_gaussian_samples(mu, cov, n, seed=\u001b[32m0\u001b[39m)\n\u001b[32m---> \u001b[39m\u001b[32m12\u001b[39m     _, _, history = \u001b[43mlm_optimize_with_tracking\u001b[49m\u001b[43m(\u001b[49m\u001b[43msamples\u001b[49m\u001b[43m,\u001b[49m\u001b[43m \u001b[49m\u001b[43mmu\u001b[49m\u001b[43m,\u001b[49m\u001b[43m \u001b[49m\u001b[43mcov\u001b[49m\u001b[43m,\u001b[49m\u001b[43m \u001b[49m\u001b[43mn_epochs\u001b[49m\u001b[43m=\u001b[49m\u001b[43mn_steps\u001b[49m\u001b[43m,\u001b[49m\u001b[43m \u001b[49m\u001b[43mbase_lr\u001b[49m\u001b[43m=\u001b[49m\u001b[32;43m0.1\u001b[39;49m\u001b[43m,\u001b[49m\u001b[43m \u001b[49m\u001b[43mseed\u001b[49m\u001b[43m \u001b[49m\u001b[43m=\u001b[49m\u001b[43m \u001b[49m\u001b[32;43m0\u001b[39;49m\u001b[43m)\u001b[49m\n\u001b[32m     13\u001b[39m     all_losses.append(np.array(history[\u001b[33m\"\u001b[39m\u001b[33mloss\u001b[39m\u001b[33m\"\u001b[39m]))\n\u001b[32m     14\u001b[39m     all_mu_errors.append(np.array(history[\u001b[33m\"\u001b[39m\u001b[33mmu_l2\u001b[39m\u001b[33m\"\u001b[39m]))\n",
      "\u001b[36mCell\u001b[39m\u001b[36m \u001b[39m\u001b[32mIn[7]\u001b[39m\u001b[32m, line 60\u001b[39m, in \u001b[36mlm_optimize_with_tracking\u001b[39m\u001b[34m(samples, true_mu, true_cov, n_epochs, base_lr, seed, eps, plot_every, use_lr_schedule)\u001b[39m\n\u001b[32m     52\u001b[39m history = {\n\u001b[32m     53\u001b[39m     \u001b[33m\"\u001b[39m\u001b[33mloss\u001b[39m\u001b[33m\"\u001b[39m: [],\n\u001b[32m     54\u001b[39m     \u001b[33m\"\u001b[39m\u001b[33mmu_l2\u001b[39m\u001b[33m\"\u001b[39m: [],\n\u001b[32m     55\u001b[39m     \u001b[33m\"\u001b[39m\u001b[33mcov_fro\u001b[39m\u001b[33m\"\u001b[39m: [],\n\u001b[32m     56\u001b[39m }\n\u001b[32m     59\u001b[39m \u001b[38;5;28;01mfor\u001b[39;00m epoch \u001b[38;5;129;01min\u001b[39;00m \u001b[38;5;28mrange\u001b[39m(n_epochs):\n\u001b[32m---> \u001b[39m\u001b[32m60\u001b[39m     loss_val, grads = \u001b[43mjax\u001b[49m\u001b[43m.\u001b[49m\u001b[43mvalue_and_grad\u001b[49m\u001b[43m(\u001b[49m\u001b[43mloss_fn\u001b[49m\u001b[43m)\u001b[49m\u001b[43m(\u001b[49m\u001b[43mparams\u001b[49m\u001b[43m,\u001b[49m\u001b[43m \u001b[49m\u001b[43msamples\u001b[49m\u001b[43m)\u001b[49m\n\u001b[32m     61\u001b[39m     updates, opt_state = optimizer.update(grads, opt_state, params)\n\u001b[32m     62\u001b[39m     params = optax.apply_updates(params, updates)\n",
      "    \u001b[31m[... skipping hidden 1 frame]\u001b[39m\n",
      "\u001b[36mFile \u001b[39m\u001b[32m~/Desktop/codes/codes_venvnew/lib/python3.13/site-packages/jax/_src/api.py:479\u001b[39m, in \u001b[36mvalue_and_grad.<locals>.value_and_grad_f\u001b[39m\u001b[34m(*args, **kwargs)\u001b[39m\n\u001b[32m    477\u001b[39m   _check_input_dtype_grad(holomorphic, allow_int, leaf)\n\u001b[32m    478\u001b[39m \u001b[38;5;28;01mif\u001b[39;00m \u001b[38;5;129;01mnot\u001b[39;00m has_aux:\n\u001b[32m--> \u001b[39m\u001b[32m479\u001b[39m   ans, vjp_py = \u001b[43m_vjp\u001b[49m\u001b[43m(\u001b[49m\u001b[43mf_partial\u001b[49m\u001b[43m,\u001b[49m\u001b[43m \u001b[49m\u001b[43m*\u001b[49m\u001b[43mdyn_args\u001b[49m\u001b[43m)\u001b[49m\n\u001b[32m    480\u001b[39m \u001b[38;5;28;01melse\u001b[39;00m:\n\u001b[32m    481\u001b[39m   ans, vjp_py, aux = _vjp(f_partial, *dyn_args, has_aux=\u001b[38;5;28;01mTrue\u001b[39;00m)\n",
      "\u001b[36mFile \u001b[39m\u001b[32m~/Desktop/codes/codes_venvnew/lib/python3.13/site-packages/jax/_src/api.py:2143\u001b[39m, in \u001b[36m_vjp\u001b[39m\u001b[34m(fun, has_aux, *primals)\u001b[39m\n\u001b[32m   2141\u001b[39m \u001b[38;5;28;01mif\u001b[39;00m \u001b[38;5;129;01mnot\u001b[39;00m has_aux:\n\u001b[32m   2142\u001b[39m   flat_fun, out_tree = flatten_fun_nokwargs(fun, in_tree)\n\u001b[32m-> \u001b[39m\u001b[32m2143\u001b[39m   out_primals, vjp = \u001b[43mad\u001b[49m\u001b[43m.\u001b[49m\u001b[43mvjp\u001b[49m\u001b[43m(\u001b[49m\u001b[43mflat_fun\u001b[49m\u001b[43m,\u001b[49m\u001b[43m \u001b[49m\u001b[43mprimals_flat\u001b[49m\u001b[43m)\u001b[49m\n\u001b[32m   2144\u001b[39m   out_tree = out_tree()\n\u001b[32m   2145\u001b[39m \u001b[38;5;28;01melse\u001b[39;00m:\n",
      "\u001b[36mFile \u001b[39m\u001b[32m~/Desktop/codes/codes_venvnew/lib/python3.13/site-packages/jax/_src/interpreters/ad.py:309\u001b[39m, in \u001b[36mvjp\u001b[39m\u001b[34m(traceable, primals, has_aux)\u001b[39m\n\u001b[32m    307\u001b[39m \u001b[38;5;28;01mdef\u001b[39;00m\u001b[38;5;250m \u001b[39m\u001b[34mvjp\u001b[39m(traceable: lu.WrappedFun, primals, has_aux=\u001b[38;5;28;01mFalse\u001b[39;00m):\n\u001b[32m    308\u001b[39m   \u001b[38;5;28;01mif\u001b[39;00m \u001b[38;5;129;01mnot\u001b[39;00m has_aux:\n\u001b[32m--> \u001b[39m\u001b[32m309\u001b[39m     out_primals, pvals, jaxpr, consts = \u001b[43mlinearize\u001b[49m\u001b[43m(\u001b[49m\u001b[43mtraceable\u001b[49m\u001b[43m,\u001b[49m\u001b[43m \u001b[49m\u001b[43m*\u001b[49m\u001b[43mprimals\u001b[49m\u001b[43m)\u001b[49m\n\u001b[32m    310\u001b[39m   \u001b[38;5;28;01melse\u001b[39;00m:\n\u001b[32m    311\u001b[39m     out_primals, pvals, jaxpr, consts, aux = linearize(traceable, *primals, has_aux=\u001b[38;5;28;01mTrue\u001b[39;00m)\n",
      "\u001b[36mFile \u001b[39m\u001b[32m~/Desktop/codes/codes_venvnew/lib/python3.13/site-packages/jax/_src/interpreters/ad.py:283\u001b[39m, in \u001b[36mlinearize\u001b[39m\u001b[34m(traceable, *primals, **kwargs)\u001b[39m\n\u001b[32m    281\u001b[39m has_aux = kwargs.pop(\u001b[33m'\u001b[39m\u001b[33mhas_aux\u001b[39m\u001b[33m'\u001b[39m, \u001b[38;5;28;01mFalse\u001b[39;00m)\n\u001b[32m    282\u001b[39m \u001b[38;5;28;01mif\u001b[39;00m config.use_direct_linearize.value:\n\u001b[32m--> \u001b[39m\u001b[32m283\u001b[39m   \u001b[38;5;28;01mreturn\u001b[39;00m \u001b[43mdirect_linearize\u001b[49m\u001b[43m(\u001b[49m\u001b[43mtraceable\u001b[49m\u001b[43m,\u001b[49m\u001b[43m \u001b[49m\u001b[43mprimals\u001b[49m\u001b[43m,\u001b[49m\u001b[43m \u001b[49m\u001b[43mkwargs\u001b[49m\u001b[43m,\u001b[49m\u001b[43m \u001b[49m\u001b[43mhas_aux\u001b[49m\u001b[43m=\u001b[49m\u001b[43mhas_aux\u001b[49m\u001b[43m)\u001b[49m\n\u001b[32m    284\u001b[39m \u001b[38;5;28;01mif\u001b[39;00m \u001b[38;5;129;01mnot\u001b[39;00m has_aux:\n\u001b[32m    285\u001b[39m   jvpfun = jvp(traceable)\n",
      "\u001b[36mFile \u001b[39m\u001b[32m~/Desktop/codes/codes_venvnew/lib/python3.13/site-packages/jax/_src/interpreters/ad.py:256\u001b[39m, in \u001b[36mdirect_linearize\u001b[39m\u001b[34m(traceable, primals, kwargs, has_aux, tag)\u001b[39m\n\u001b[32m    251\u001b[39m   aux_primals = [x.primal\n\u001b[32m    252\u001b[39m                  \u001b[38;5;28;01mif\u001b[39;00m \u001b[38;5;28misinstance\u001b[39m(x, LinearizeTracer)\n\u001b[32m    253\u001b[39m                  \u001b[38;5;129;01mand\u001b[39;00m x._trace.tag \u001b[38;5;129;01mis\u001b[39;00m linearize_trace.tag\n\u001b[32m    254\u001b[39m                  \u001b[38;5;28;01melse\u001b[39;00m x \u001b[38;5;28;01mfor\u001b[39;00m x \u001b[38;5;129;01min\u001b[39;00m aux]\n\u001b[32m    255\u001b[39m \u001b[38;5;28;01melse\u001b[39;00m:\n\u001b[32m--> \u001b[39m\u001b[32m256\u001b[39m   ans = \u001b[43mtraceable\u001b[49m\u001b[43m.\u001b[49m\u001b[43mcall_wrapped\u001b[49m\u001b[43m(\u001b[49m\u001b[43m*\u001b[49m\u001b[43mtracers\u001b[49m\u001b[43m)\u001b[49m\n\u001b[32m    257\u001b[39m   aux = \u001b[38;5;28;01mNone\u001b[39;00m\n\u001b[32m    258\u001b[39m out_primals, out_tangents = unzip2(\u001b[38;5;28mmap\u001b[39m(linearize_trace.to_primal_tangent_pair, ans))\n",
      "\u001b[36mFile \u001b[39m\u001b[32m~/Desktop/codes/codes_venvnew/lib/python3.13/site-packages/jax/_src/linear_util.py:212\u001b[39m, in \u001b[36mWrappedFun.call_wrapped\u001b[39m\u001b[34m(self, *args, **kwargs)\u001b[39m\n\u001b[32m    210\u001b[39m \u001b[38;5;28;01mdef\u001b[39;00m\u001b[38;5;250m \u001b[39m\u001b[34mcall_wrapped\u001b[39m(\u001b[38;5;28mself\u001b[39m, *args, **kwargs):\n\u001b[32m    211\u001b[39m \u001b[38;5;250m  \u001b[39m\u001b[33;03m\"\"\"Calls the transformed function\"\"\"\u001b[39;00m\n\u001b[32m--> \u001b[39m\u001b[32m212\u001b[39m   \u001b[38;5;28;01mreturn\u001b[39;00m \u001b[38;5;28;43mself\u001b[39;49m\u001b[43m.\u001b[49m\u001b[43mf_transformed\u001b[49m\u001b[43m(\u001b[49m\u001b[43m*\u001b[49m\u001b[43margs\u001b[49m\u001b[43m,\u001b[49m\u001b[43m \u001b[49m\u001b[43m*\u001b[49m\u001b[43m*\u001b[49m\u001b[43mkwargs\u001b[49m\u001b[43m)\u001b[49m\n",
      "\u001b[36mFile \u001b[39m\u001b[32m~/Desktop/codes/codes_venvnew/lib/python3.13/site-packages/jax/_src/api_util.py:90\u001b[39m, in \u001b[36mflatten_fun_nokwargs\u001b[39m\u001b[34m(f, store, in_tree, *args_flat)\u001b[39m\n\u001b[32m     86\u001b[39m \u001b[38;5;129m@lu\u001b[39m.transformation_with_aux2\n\u001b[32m     87\u001b[39m \u001b[38;5;28;01mdef\u001b[39;00m\u001b[38;5;250m \u001b[39m\u001b[34mflatten_fun_nokwargs\u001b[39m(f: Callable, store: lu.Store,\n\u001b[32m     88\u001b[39m                          in_tree: PyTreeDef, *args_flat):\n\u001b[32m     89\u001b[39m   py_args = tree_unflatten(in_tree, args_flat)\n\u001b[32m---> \u001b[39m\u001b[32m90\u001b[39m   ans = \u001b[43mf\u001b[49m\u001b[43m(\u001b[49m\u001b[43m*\u001b[49m\u001b[43mpy_args\u001b[49m\u001b[43m)\u001b[49m\n\u001b[32m     91\u001b[39m   ans, out_tree = tree_flatten(ans)\n\u001b[32m     92\u001b[39m   store.store(out_tree)\n",
      "\u001b[36mFile \u001b[39m\u001b[32m~/Desktop/codes/codes_venvnew/lib/python3.13/site-packages/jax/_src/api_util.py:288\u001b[39m, in \u001b[36m_argnums_partial\u001b[39m\u001b[34m(_fun, _dyn_argnums, _fixed_args, *dyn_args, **kwargs)\u001b[39m\n\u001b[32m    286\u001b[39m args = [\u001b[38;5;28mnext\u001b[39m(fixed_args_).val \u001b[38;5;28;01mif\u001b[39;00m x \u001b[38;5;129;01mis\u001b[39;00m sentinel \u001b[38;5;28;01melse\u001b[39;00m x \u001b[38;5;28;01mfor\u001b[39;00m x \u001b[38;5;129;01min\u001b[39;00m args]\n\u001b[32m    287\u001b[39m \u001b[38;5;28;01massert\u001b[39;00m \u001b[38;5;28mnext\u001b[39m(fixed_args_, sentinel) \u001b[38;5;129;01mis\u001b[39;00m sentinel\n\u001b[32m--> \u001b[39m\u001b[32m288\u001b[39m \u001b[38;5;28;01mreturn\u001b[39;00m \u001b[43m_fun\u001b[49m\u001b[43m(\u001b[49m\u001b[43m*\u001b[49m\u001b[43margs\u001b[49m\u001b[43m,\u001b[49m\u001b[43m \u001b[49m\u001b[43m*\u001b[49m\u001b[43m*\u001b[49m\u001b[43mkwargs\u001b[49m\u001b[43m)\u001b[49m\n",
      "\u001b[36mFile \u001b[39m\u001b[32m~/Desktop/codes/codes_venvnew/lib/python3.13/site-packages/jax/_src/linear_util.py:397\u001b[39m, in \u001b[36m_get_result_paths_thunk\u001b[39m\u001b[34m(_fun, _store, *args, **kwargs)\u001b[39m\n\u001b[32m    395\u001b[39m \u001b[38;5;129m@transformation_with_aux2\u001b[39m\n\u001b[32m    396\u001b[39m \u001b[38;5;28;01mdef\u001b[39;00m\u001b[38;5;250m \u001b[39m\u001b[34m_get_result_paths_thunk\u001b[39m(_fun: Callable, _store: Store, *args, **kwargs):\n\u001b[32m--> \u001b[39m\u001b[32m397\u001b[39m   ans = \u001b[43m_fun\u001b[49m\u001b[43m(\u001b[49m\u001b[43m*\u001b[49m\u001b[43margs\u001b[49m\u001b[43m,\u001b[49m\u001b[43m \u001b[49m\u001b[43m*\u001b[49m\u001b[43m*\u001b[49m\u001b[43mkwargs\u001b[49m\u001b[43m)\u001b[49m\n\u001b[32m    398\u001b[39m   result_paths = \u001b[38;5;28mtuple\u001b[39m(\u001b[33mf\u001b[39m\u001b[33m\"\u001b[39m\u001b[33mresult\u001b[39m\u001b[38;5;132;01m{\u001b[39;00m_clean_keystr_arg_names(path)\u001b[38;5;132;01m}\u001b[39;00m\u001b[33m\"\u001b[39m \u001b[38;5;28;01mfor\u001b[39;00m path, _ \u001b[38;5;129;01min\u001b[39;00m generate_key_paths(ans))\n\u001b[32m    399\u001b[39m   \u001b[38;5;28;01mif\u001b[39;00m _store:\n\u001b[32m    400\u001b[39m     \u001b[38;5;66;03m# In some instances a lu.WrappedFun is called multiple times, e.g.,\u001b[39;00m\n\u001b[32m    401\u001b[39m     \u001b[38;5;66;03m# the bwd function in a custom_vjp\u001b[39;00m\n",
      "\u001b[36mCell\u001b[39m\u001b[36m \u001b[39m\u001b[32mIn[7]\u001b[39m\u001b[32m, line 49\u001b[39m, in \u001b[36mlm_optimize_with_tracking.<locals>.loss_fn\u001b[39m\u001b[34m(params, samples)\u001b[39m\n\u001b[32m     47\u001b[39m A = params[\u001b[33m\"\u001b[39m\u001b[33mA\u001b[39m\u001b[33m\"\u001b[39m]\n\u001b[32m     48\u001b[39m cov = A.T @ A\n\u001b[32m---> \u001b[39m\u001b[32m49\u001b[39m \u001b[38;5;28;01mreturn\u001b[39;00m \u001b[43mlm_loss\u001b[49m\u001b[43m(\u001b[49m\u001b[43msamples\u001b[49m\u001b[43m,\u001b[49m\u001b[43m \u001b[49m\u001b[43mmu\u001b[49m\u001b[43m,\u001b[49m\u001b[43m \u001b[49m\u001b[43mcov\u001b[49m\u001b[43m)\u001b[49m\n",
      "\u001b[36mCell\u001b[39m\u001b[36m \u001b[39m\u001b[32mIn[6]\u001b[39m\u001b[32m, line 4\u001b[39m, in \u001b[36mlm_loss\u001b[39m\u001b[34m(samples, mu, cov)\u001b[39m\n\u001b[32m      1\u001b[39m \u001b[38;5;28;01mdef\u001b[39;00m\u001b[38;5;250m \u001b[39m\u001b[34mlm_loss\u001b[39m(samples, mu, cov):\n\u001b[32m----> \u001b[39m\u001b[32m4\u001b[39m     evolved_samples = \u001b[43mevolve_langevin\u001b[49m\u001b[43m(\u001b[49m\u001b[43msamples\u001b[49m\u001b[43m,\u001b[49m\u001b[43m \u001b[49m\u001b[43mmu\u001b[49m\u001b[43m,\u001b[49m\u001b[43m \u001b[49m\u001b[43mcov\u001b[49m\u001b[43m)\u001b[49m\n\u001b[32m      7\u001b[39m     \u001b[38;5;28;01mreturn\u001b[39;00m compute_moments_disc(samples, evolved_samples)\n",
      "\u001b[36mCell\u001b[39m\u001b[36m \u001b[39m\u001b[32mIn[4]\u001b[39m\u001b[32m, line 10\u001b[39m, in \u001b[36mevolve_langevin\u001b[39m\u001b[34m(samples, mu, cov, eps, n_evolution, seed)\u001b[39m\n\u001b[32m      8\u001b[39m \u001b[38;5;28;01mfor\u001b[39;00m i \u001b[38;5;129;01min\u001b[39;00m \u001b[38;5;28mrange\u001b[39m(n_evolution):\n\u001b[32m      9\u001b[39m     key, subkey = jax.random.split(key)\n\u001b[32m---> \u001b[39m\u001b[32m10\u001b[39m     grad = \u001b[43mpotential_grad\u001b[49m\u001b[43m(\u001b[49m\u001b[43mevolved_samples\u001b[49m\u001b[43m,\u001b[49m\u001b[43m \u001b[49m\u001b[43mmu\u001b[49m\u001b[43m,\u001b[49m\u001b[43m \u001b[49m\u001b[43mcov\u001b[49m\u001b[43m)\u001b[49m\n\u001b[32m     11\u001b[39m     noise = jax.random.normal(subkey, shape=evolved_samples.shape)\n\u001b[32m     12\u001b[39m     evolved_samples = evolved_samples - eps * grad + jnp.sqrt(\u001b[32m2\u001b[39m * eps) * noise\n",
      "\u001b[36mCell\u001b[39m\u001b[36m \u001b[39m\u001b[32mIn[3]\u001b[39m\u001b[32m, line 7\u001b[39m, in \u001b[36mpotential_grad\u001b[39m\u001b[34m(sample, mu, cov)\u001b[39m\n\u001b[32m      1\u001b[39m \u001b[38;5;28;01mdef\u001b[39;00m\u001b[38;5;250m \u001b[39m\u001b[34mpotential_grad\u001b[39m(sample, mu, cov):\n\u001b[32m      4\u001b[39m     precision = jnp.linalg.inv(cov)\n\u001b[32m----> \u001b[39m\u001b[32m7\u001b[39m     \u001b[38;5;28;01mreturn\u001b[39;00m (\u001b[43msample\u001b[49m\u001b[43m \u001b[49m\u001b[43m-\u001b[49m\u001b[43m \u001b[49m\u001b[43mmu\u001b[49m) @ precision\n",
      "\u001b[36mFile \u001b[39m\u001b[32m~/Desktop/codes/codes_venvnew/lib/python3.13/site-packages/jax/_src/numpy/array_methods.py:1125\u001b[39m, in \u001b[36m_forward_operator_to_aval.<locals>.op\u001b[39m\u001b[34m(self, *args)\u001b[39m\n\u001b[32m   1124\u001b[39m \u001b[38;5;28;01mdef\u001b[39;00m\u001b[38;5;250m \u001b[39m\u001b[34mop\u001b[39m(\u001b[38;5;28mself\u001b[39m, *args):\n\u001b[32m-> \u001b[39m\u001b[32m1125\u001b[39m   \u001b[38;5;28;01mreturn\u001b[39;00m \u001b[38;5;28;43mgetattr\u001b[39;49m\u001b[43m(\u001b[49m\u001b[38;5;28;43mself\u001b[39;49m\u001b[43m.\u001b[49m\u001b[43maval\u001b[49m\u001b[43m,\u001b[49m\u001b[43m \u001b[49m\u001b[33;43mf\u001b[39;49m\u001b[33;43m\"\u001b[39;49m\u001b[33;43m_\u001b[39;49m\u001b[38;5;132;43;01m{\u001b[39;49;00m\u001b[43mname\u001b[49m\u001b[38;5;132;43;01m}\u001b[39;49;00m\u001b[33;43m\"\u001b[39;49m\u001b[43m)\u001b[49m\u001b[43m(\u001b[49m\u001b[38;5;28;43mself\u001b[39;49m\u001b[43m,\u001b[49m\u001b[43m \u001b[49m\u001b[43m*\u001b[49m\u001b[43margs\u001b[49m\u001b[43m)\u001b[49m\n",
      "\u001b[36mFile \u001b[39m\u001b[32m~/Desktop/codes/codes_venvnew/lib/python3.13/site-packages/jax/_src/numpy/array_methods.py:582\u001b[39m, in \u001b[36m_defer_to_unrecognized_arg.<locals>.deferring_binary_op\u001b[39m\u001b[34m(self, other)\u001b[39m\n\u001b[32m    581\u001b[39m \u001b[38;5;28;01mdef\u001b[39;00m\u001b[38;5;250m \u001b[39m\u001b[34mdeferring_binary_op\u001b[39m(\u001b[38;5;28mself\u001b[39m, other):\n\u001b[32m--> \u001b[39m\u001b[32m582\u001b[39m   \u001b[38;5;28;01mif\u001b[39;00m \u001b[38;5;28;43mhasattr\u001b[39;49m\u001b[43m(\u001b[49m\u001b[43mother\u001b[49m\u001b[43m,\u001b[49m\u001b[43m \u001b[49m\u001b[33;43m'\u001b[39;49m\u001b[33;43m__jax_array__\u001b[39;49m\u001b[33;43m'\u001b[39;49m\u001b[43m)\u001b[49m:\n\u001b[32m    583\u001b[39m     other = other.__jax_array__()\n\u001b[32m    584\u001b[39m   args = (other, \u001b[38;5;28mself\u001b[39m) \u001b[38;5;28;01mif\u001b[39;00m swap \u001b[38;5;28;01melse\u001b[39;00m (\u001b[38;5;28mself\u001b[39m, other)\n",
      "\u001b[31mKeyboardInterrupt\u001b[39m: "
     ]
    }
   ],
   "source": [
    "sample_sizes = np.arange(50, 2001, 50)\n",
    "n_steps = 800\n",
    "\n",
    "\n",
    "all_losses = []\n",
    "all_mu_errors = []\n",
    "all_cov_errors = []\n",
    "\n",
    "\n",
    "for n in tqdm(sample_sizes):\n",
    "    samples = generate_gaussian_samples(mu, cov, n, seed=0)\n",
    "    _, _, history = lm_optimize_with_tracking(samples, mu, cov, n_epochs=n_steps, base_lr=0.1, seed = 0)\n",
    "    all_losses.append(np.array(history[\"loss\"]))\n",
    "    all_mu_errors.append(np.array(history[\"mu_l2\"]))\n",
    "    all_cov_errors.append(np.array(history[\"cov_fro\"]))"
   ]
  },
  {
   "cell_type": "code",
   "execution_count": null,
   "id": "2945e735",
   "metadata": {},
   "outputs": [],
   "source": [
    "loss_matrix = np.array(all_losses)\n",
    "mu_err_matrix = np.array(all_mu_errors)/np.linalg.norm(mu)\n",
    "cov_err_matrix = np.array(all_cov_errors)/np.linalg.norm(cov)\n",
    "\n",
    "\n",
    "steps = np.linspace(0, n_steps, n_steps)\n",
    "sample_sizes = np.arange(50, 2001, 50)\n",
    "\n",
    "\n",
    "def plot_heatmap(data, title, ylabel, cmap=\"viridis\", vmin=None, vmax=None):\n",
    "    plt.imshow(data, aspect=\"auto\", origin=\"lower\", cmap=cmap,\n",
    "               extent=[steps[0], steps[-1], sample_sizes[0], sample_sizes[-1]],\n",
    "               vmin=vmin, vmax=vmax)\n",
    "    plt.colorbar()\n",
    "    plt.xlabel(\"step\", fontsize=13)\n",
    "    plt.ylabel(\"n_samples\", fontsize=13)\n",
    "    plt.title(title, fontsize=15)\n",
    "\n",
    "\n",
    "plt.figure(figsize=(18, 5))\n",
    "\n",
    "\n",
    "plt.subplot(1, 3, 1)\n",
    "plot_heatmap(loss_matrix, \"Loss heatmap\", \"n_samples\")\n",
    "\n",
    "\n",
    "plt.subplot(1, 3, 2)\n",
    "plot_heatmap(mu_err_matrix, r\"$\\|\\mu - \\hat{\\mu}\\|_2/\\|\\mu\\|_2$ heatmap\", \"n_samples\", vmin=0.0, vmax=1.0)\n",
    "\n",
    "\n",
    "plt.subplot(1, 3, 3)\n",
    "plot_heatmap(cov_err_matrix, r\"$\\|\\Sigma - \\hat{\\Sigma}\\|_F/\\|\\Sigma\\|_F$ heatmap\", \"n_samples\", vmin=0.0, vmax=1.0)\n",
    "\n",
    "\n",
    "plt.tight_layout()\n",
    "plt.show()"
   ]
  }
 ],
 "metadata": {
  "kernelspec": {
   "display_name": "codes_venvnew",
   "language": "python",
   "name": "python3"
  },
  "language_info": {
   "codemirror_mode": {
    "name": "ipython",
    "version": 3
   },
   "file_extension": ".py",
   "mimetype": "text/x-python",
   "name": "python",
   "nbconvert_exporter": "python",
   "pygments_lexer": "ipython3",
   "version": "3.13.0"
  }
 },
 "nbformat": 4,
 "nbformat_minor": 5
}
